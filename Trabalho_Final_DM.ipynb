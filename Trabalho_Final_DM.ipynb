{
  "nbformat": 4,
  "nbformat_minor": 0,
  "metadata": {
    "colab": {
      "provenance": [],
      "authorship_tag": "ABX9TyP30fy+QXMsLdSsnJUBA9Ml",
      "include_colab_link": true
    },
    "kernelspec": {
      "name": "python3",
      "display_name": "Python 3"
    },
    "language_info": {
      "name": "python"
    }
  },
  "cells": [
    {
      "cell_type": "markdown",
      "metadata": {
        "id": "view-in-github",
        "colab_type": "text"
      },
      "source": [
        "<a href=\"https://colab.research.google.com/github/alexlattari/computacao-grafica/blob/master/Trabalho_Final_DM.ipynb\" target=\"_parent\"><img src=\"https://colab.research.google.com/assets/colab-badge.svg\" alt=\"Open In Colab\"/></a>"
      ]
    },
    {
      "cell_type": "code",
      "execution_count": 2,
      "metadata": {
        "id": "-V4MyhQqoxsH"
      },
      "outputs": [],
      "source": [
        "import pandas as pd"
      ]
    },
    {
      "cell_type": "code",
      "source": [
        "dataset_treino = pd.read_csv('horse.csv')\n",
        "dataset_teste = pd.read_csv('horseTest.csv')"
      ],
      "metadata": {
        "id": "wTmJS1igq8Us"
      },
      "execution_count": 8,
      "outputs": []
    },
    {
      "cell_type": "code",
      "source": [
        "dataset_treino.head()"
      ],
      "metadata": {
        "colab": {
          "base_uri": "https://localhost:8080/",
          "height": 299
        },
        "id": "Vc54udwermYv",
        "outputId": "265e4d4c-8c6e-4e1c-dec0-2b012d910441"
      },
      "execution_count": 6,
      "outputs": [
        {
          "output_type": "execute_result",
          "data": {
            "text/plain": [
              "  surgery    age  hospital_number  rectal_temp  pulse  respiratory_rate  \\\n",
              "0      no  adult           530101         38.5   66.0              28.0   \n",
              "1     yes  adult           534817         39.2   88.0              20.0   \n",
              "2      no  adult           530334         38.3   40.0              24.0   \n",
              "3     yes  young          5290409         39.1  164.0              84.0   \n",
              "4      no  adult           530255         37.3  104.0              35.0   \n",
              "\n",
              "  temp_of_extremities peripheral_pulse mucous_membrane capillary_refill_time  \\\n",
              "0                cool          reduced             NaN            more_3_sec   \n",
              "1                 NaN              NaN   pale_cyanotic            less_3_sec   \n",
              "2              normal           normal       pale_pink            less_3_sec   \n",
              "3                cold           normal   dark_cyanotic            more_3_sec   \n",
              "4                 NaN              NaN   dark_cyanotic            more_3_sec   \n",
              "\n",
              "   ... packed_cell_volume total_protein abdomo_appearance abdomo_protein  \\\n",
              "0  ...               45.0           8.4               NaN            NaN   \n",
              "1  ...               50.0          85.0            cloudy            2.0   \n",
              "2  ...               33.0           6.7               NaN            NaN   \n",
              "3  ...               48.0           7.2     serosanguious            5.3   \n",
              "4  ...               74.0           7.4               NaN            NaN   \n",
              "\n",
              "      outcome  surgical_lesion lesion_1 lesion_2  lesion_3  cp_data  \n",
              "0        died               no    11300        0         0       no  \n",
              "1  euthanized               no     2208        0         0       no  \n",
              "2       lived               no        0        0         0      yes  \n",
              "3        died              yes     2208        0         0      yes  \n",
              "4        died               no     4300        0         0       no  \n",
              "\n",
              "[5 rows x 28 columns]"
            ],
            "text/html": [
              "\n",
              "  <div id=\"df-844e1c05-5c99-4e2a-9b94-f2fa895c0180\">\n",
              "    <div class=\"colab-df-container\">\n",
              "      <div>\n",
              "<style scoped>\n",
              "    .dataframe tbody tr th:only-of-type {\n",
              "        vertical-align: middle;\n",
              "    }\n",
              "\n",
              "    .dataframe tbody tr th {\n",
              "        vertical-align: top;\n",
              "    }\n",
              "\n",
              "    .dataframe thead th {\n",
              "        text-align: right;\n",
              "    }\n",
              "</style>\n",
              "<table border=\"1\" class=\"dataframe\">\n",
              "  <thead>\n",
              "    <tr style=\"text-align: right;\">\n",
              "      <th></th>\n",
              "      <th>surgery</th>\n",
              "      <th>age</th>\n",
              "      <th>hospital_number</th>\n",
              "      <th>rectal_temp</th>\n",
              "      <th>pulse</th>\n",
              "      <th>respiratory_rate</th>\n",
              "      <th>temp_of_extremities</th>\n",
              "      <th>peripheral_pulse</th>\n",
              "      <th>mucous_membrane</th>\n",
              "      <th>capillary_refill_time</th>\n",
              "      <th>...</th>\n",
              "      <th>packed_cell_volume</th>\n",
              "      <th>total_protein</th>\n",
              "      <th>abdomo_appearance</th>\n",
              "      <th>abdomo_protein</th>\n",
              "      <th>outcome</th>\n",
              "      <th>surgical_lesion</th>\n",
              "      <th>lesion_1</th>\n",
              "      <th>lesion_2</th>\n",
              "      <th>lesion_3</th>\n",
              "      <th>cp_data</th>\n",
              "    </tr>\n",
              "  </thead>\n",
              "  <tbody>\n",
              "    <tr>\n",
              "      <th>0</th>\n",
              "      <td>no</td>\n",
              "      <td>adult</td>\n",
              "      <td>530101</td>\n",
              "      <td>38.5</td>\n",
              "      <td>66.0</td>\n",
              "      <td>28.0</td>\n",
              "      <td>cool</td>\n",
              "      <td>reduced</td>\n",
              "      <td>NaN</td>\n",
              "      <td>more_3_sec</td>\n",
              "      <td>...</td>\n",
              "      <td>45.0</td>\n",
              "      <td>8.4</td>\n",
              "      <td>NaN</td>\n",
              "      <td>NaN</td>\n",
              "      <td>died</td>\n",
              "      <td>no</td>\n",
              "      <td>11300</td>\n",
              "      <td>0</td>\n",
              "      <td>0</td>\n",
              "      <td>no</td>\n",
              "    </tr>\n",
              "    <tr>\n",
              "      <th>1</th>\n",
              "      <td>yes</td>\n",
              "      <td>adult</td>\n",
              "      <td>534817</td>\n",
              "      <td>39.2</td>\n",
              "      <td>88.0</td>\n",
              "      <td>20.0</td>\n",
              "      <td>NaN</td>\n",
              "      <td>NaN</td>\n",
              "      <td>pale_cyanotic</td>\n",
              "      <td>less_3_sec</td>\n",
              "      <td>...</td>\n",
              "      <td>50.0</td>\n",
              "      <td>85.0</td>\n",
              "      <td>cloudy</td>\n",
              "      <td>2.0</td>\n",
              "      <td>euthanized</td>\n",
              "      <td>no</td>\n",
              "      <td>2208</td>\n",
              "      <td>0</td>\n",
              "      <td>0</td>\n",
              "      <td>no</td>\n",
              "    </tr>\n",
              "    <tr>\n",
              "      <th>2</th>\n",
              "      <td>no</td>\n",
              "      <td>adult</td>\n",
              "      <td>530334</td>\n",
              "      <td>38.3</td>\n",
              "      <td>40.0</td>\n",
              "      <td>24.0</td>\n",
              "      <td>normal</td>\n",
              "      <td>normal</td>\n",
              "      <td>pale_pink</td>\n",
              "      <td>less_3_sec</td>\n",
              "      <td>...</td>\n",
              "      <td>33.0</td>\n",
              "      <td>6.7</td>\n",
              "      <td>NaN</td>\n",
              "      <td>NaN</td>\n",
              "      <td>lived</td>\n",
              "      <td>no</td>\n",
              "      <td>0</td>\n",
              "      <td>0</td>\n",
              "      <td>0</td>\n",
              "      <td>yes</td>\n",
              "    </tr>\n",
              "    <tr>\n",
              "      <th>3</th>\n",
              "      <td>yes</td>\n",
              "      <td>young</td>\n",
              "      <td>5290409</td>\n",
              "      <td>39.1</td>\n",
              "      <td>164.0</td>\n",
              "      <td>84.0</td>\n",
              "      <td>cold</td>\n",
              "      <td>normal</td>\n",
              "      <td>dark_cyanotic</td>\n",
              "      <td>more_3_sec</td>\n",
              "      <td>...</td>\n",
              "      <td>48.0</td>\n",
              "      <td>7.2</td>\n",
              "      <td>serosanguious</td>\n",
              "      <td>5.3</td>\n",
              "      <td>died</td>\n",
              "      <td>yes</td>\n",
              "      <td>2208</td>\n",
              "      <td>0</td>\n",
              "      <td>0</td>\n",
              "      <td>yes</td>\n",
              "    </tr>\n",
              "    <tr>\n",
              "      <th>4</th>\n",
              "      <td>no</td>\n",
              "      <td>adult</td>\n",
              "      <td>530255</td>\n",
              "      <td>37.3</td>\n",
              "      <td>104.0</td>\n",
              "      <td>35.0</td>\n",
              "      <td>NaN</td>\n",
              "      <td>NaN</td>\n",
              "      <td>dark_cyanotic</td>\n",
              "      <td>more_3_sec</td>\n",
              "      <td>...</td>\n",
              "      <td>74.0</td>\n",
              "      <td>7.4</td>\n",
              "      <td>NaN</td>\n",
              "      <td>NaN</td>\n",
              "      <td>died</td>\n",
              "      <td>no</td>\n",
              "      <td>4300</td>\n",
              "      <td>0</td>\n",
              "      <td>0</td>\n",
              "      <td>no</td>\n",
              "    </tr>\n",
              "  </tbody>\n",
              "</table>\n",
              "<p>5 rows × 28 columns</p>\n",
              "</div>\n",
              "      <button class=\"colab-df-convert\" onclick=\"convertToInteractive('df-844e1c05-5c99-4e2a-9b94-f2fa895c0180')\"\n",
              "              title=\"Convert this dataframe to an interactive table.\"\n",
              "              style=\"display:none;\">\n",
              "        \n",
              "  <svg xmlns=\"http://www.w3.org/2000/svg\" height=\"24px\"viewBox=\"0 0 24 24\"\n",
              "       width=\"24px\">\n",
              "    <path d=\"M0 0h24v24H0V0z\" fill=\"none\"/>\n",
              "    <path d=\"M18.56 5.44l.94 2.06.94-2.06 2.06-.94-2.06-.94-.94-2.06-.94 2.06-2.06.94zm-11 1L8.5 8.5l.94-2.06 2.06-.94-2.06-.94L8.5 2.5l-.94 2.06-2.06.94zm10 10l.94 2.06.94-2.06 2.06-.94-2.06-.94-.94-2.06-.94 2.06-2.06.94z\"/><path d=\"M17.41 7.96l-1.37-1.37c-.4-.4-.92-.59-1.43-.59-.52 0-1.04.2-1.43.59L10.3 9.45l-7.72 7.72c-.78.78-.78 2.05 0 2.83L4 21.41c.39.39.9.59 1.41.59.51 0 1.02-.2 1.41-.59l7.78-7.78 2.81-2.81c.8-.78.8-2.07 0-2.86zM5.41 20L4 18.59l7.72-7.72 1.47 1.35L5.41 20z\"/>\n",
              "  </svg>\n",
              "      </button>\n",
              "      \n",
              "  <style>\n",
              "    .colab-df-container {\n",
              "      display:flex;\n",
              "      flex-wrap:wrap;\n",
              "      gap: 12px;\n",
              "    }\n",
              "\n",
              "    .colab-df-convert {\n",
              "      background-color: #E8F0FE;\n",
              "      border: none;\n",
              "      border-radius: 50%;\n",
              "      cursor: pointer;\n",
              "      display: none;\n",
              "      fill: #1967D2;\n",
              "      height: 32px;\n",
              "      padding: 0 0 0 0;\n",
              "      width: 32px;\n",
              "    }\n",
              "\n",
              "    .colab-df-convert:hover {\n",
              "      background-color: #E2EBFA;\n",
              "      box-shadow: 0px 1px 2px rgba(60, 64, 67, 0.3), 0px 1px 3px 1px rgba(60, 64, 67, 0.15);\n",
              "      fill: #174EA6;\n",
              "    }\n",
              "\n",
              "    [theme=dark] .colab-df-convert {\n",
              "      background-color: #3B4455;\n",
              "      fill: #D2E3FC;\n",
              "    }\n",
              "\n",
              "    [theme=dark] .colab-df-convert:hover {\n",
              "      background-color: #434B5C;\n",
              "      box-shadow: 0px 1px 3px 1px rgba(0, 0, 0, 0.15);\n",
              "      filter: drop-shadow(0px 1px 2px rgba(0, 0, 0, 0.3));\n",
              "      fill: #FFFFFF;\n",
              "    }\n",
              "  </style>\n",
              "\n",
              "      <script>\n",
              "        const buttonEl =\n",
              "          document.querySelector('#df-844e1c05-5c99-4e2a-9b94-f2fa895c0180 button.colab-df-convert');\n",
              "        buttonEl.style.display =\n",
              "          google.colab.kernel.accessAllowed ? 'block' : 'none';\n",
              "\n",
              "        async function convertToInteractive(key) {\n",
              "          const element = document.querySelector('#df-844e1c05-5c99-4e2a-9b94-f2fa895c0180');\n",
              "          const dataTable =\n",
              "            await google.colab.kernel.invokeFunction('convertToInteractive',\n",
              "                                                     [key], {});\n",
              "          if (!dataTable) return;\n",
              "\n",
              "          const docLinkHtml = 'Like what you see? Visit the ' +\n",
              "            '<a target=\"_blank\" href=https://colab.research.google.com/notebooks/data_table.ipynb>data table notebook</a>'\n",
              "            + ' to learn more about interactive tables.';\n",
              "          element.innerHTML = '';\n",
              "          dataTable['output_type'] = 'display_data';\n",
              "          await google.colab.output.renderOutput(dataTable, element);\n",
              "          const docLink = document.createElement('div');\n",
              "          docLink.innerHTML = docLinkHtml;\n",
              "          element.appendChild(docLink);\n",
              "        }\n",
              "      </script>\n",
              "    </div>\n",
              "  </div>\n",
              "  "
            ]
          },
          "metadata": {},
          "execution_count": 6
        }
      ]
    },
    {
      "cell_type": "code",
      "source": [
        "dataset_teste.shape"
      ],
      "metadata": {
        "colab": {
          "base_uri": "https://localhost:8080/"
        },
        "id": "Be1xfziGr6O_",
        "outputId": "813f6932-3a8e-420e-ae64-3e8a21c43fee"
      },
      "execution_count": 9,
      "outputs": [
        {
          "output_type": "execute_result",
          "data": {
            "text/plain": [
              "(89, 28)"
            ]
          },
          "metadata": {},
          "execution_count": 9
        }
      ]
    },
    {
      "cell_type": "code",
      "source": [
        "faltantes = dataset_treino.isnull().sum()\n",
        "faltantes\n",
        "\n"
      ],
      "metadata": {
        "colab": {
          "base_uri": "https://localhost:8080/"
        },
        "id": "hUgCkiS5r-Bw",
        "outputId": "12fc23e0-3eb6-480d-f93b-095dc64d901c"
      },
      "execution_count": 12,
      "outputs": [
        {
          "output_type": "execute_result",
          "data": {
            "text/plain": [
              "surgery                    0\n",
              "age                        0\n",
              "hospital_number            0\n",
              "rectal_temp               60\n",
              "pulse                     24\n",
              "respiratory_rate          58\n",
              "temp_of_extremities       56\n",
              "peripheral_pulse          69\n",
              "mucous_membrane           47\n",
              "capillary_refill_time     32\n",
              "pain                      55\n",
              "peristalsis               44\n",
              "abdominal_distention      56\n",
              "nasogastric_tube         104\n",
              "nasogastric_reflux       106\n",
              "nasogastric_reflux_ph    246\n",
              "rectal_exam_feces        102\n",
              "abdomen                  118\n",
              "packed_cell_volume        29\n",
              "total_protein             33\n",
              "abdomo_appearance        165\n",
              "abdomo_protein           198\n",
              "outcome                    0\n",
              "surgical_lesion            0\n",
              "lesion_1                   0\n",
              "lesion_2                   0\n",
              "lesion_3                   0\n",
              "cp_data                    0\n",
              "dtype: int64"
            ]
          },
          "metadata": {},
          "execution_count": 12
        }
      ]
    },
    {
      "cell_type": "code",
      "source": [
        "faltantes_percentual = dataset_treino.isnull().sum() / len(dataset_treino['surgery'])\n",
        "print(faltantes_percentual)"
      ],
      "metadata": {
        "colab": {
          "base_uri": "https://localhost:8080/"
        },
        "id": "sbMQnZm-t_Qa",
        "outputId": "325a7e24-dec2-4bec-8849-1de1c56a12c0"
      },
      "execution_count": 15,
      "outputs": [
        {
          "output_type": "stream",
          "name": "stdout",
          "text": [
            "surgery                  0.000000\n",
            "age                      0.000000\n",
            "hospital_number          0.000000\n",
            "rectal_temp              0.200669\n",
            "pulse                    0.080268\n",
            "respiratory_rate         0.193980\n",
            "temp_of_extremities      0.187291\n",
            "peripheral_pulse         0.230769\n",
            "mucous_membrane          0.157191\n",
            "capillary_refill_time    0.107023\n",
            "pain                     0.183946\n",
            "peristalsis              0.147157\n",
            "abdominal_distention     0.187291\n",
            "nasogastric_tube         0.347826\n",
            "nasogastric_reflux       0.354515\n",
            "nasogastric_reflux_ph    0.822742\n",
            "rectal_exam_feces        0.341137\n",
            "abdomen                  0.394649\n",
            "packed_cell_volume       0.096990\n",
            "total_protein            0.110368\n",
            "abdomo_appearance        0.551839\n",
            "abdomo_protein           0.662207\n",
            "outcome                  0.000000\n",
            "surgical_lesion          0.000000\n",
            "lesion_1                 0.000000\n",
            "lesion_2                 0.000000\n",
            "lesion_3                 0.000000\n",
            "cp_data                  0.000000\n",
            "dtype: float64\n"
          ]
        }
      ]
    },
    {
      "cell_type": "code",
      "source": [
        "dataset_treino['outcome'].value_counts()"
      ],
      "metadata": {
        "colab": {
          "base_uri": "https://localhost:8080/"
        },
        "id": "mJ7s5T9buAyP",
        "outputId": "19d17929-674e-45c0-e11b-6cabd28c4871"
      },
      "execution_count": 16,
      "outputs": [
        {
          "output_type": "execute_result",
          "data": {
            "text/plain": [
              "lived         178\n",
              "died           77\n",
              "euthanized     44\n",
              "Name: outcome, dtype: int64"
            ]
          },
          "metadata": {},
          "execution_count": 16
        }
      ]
    },
    {
      "cell_type": "code",
      "source": [
        "dataset_teste['outcome'].value_counts()"
      ],
      "metadata": {
        "colab": {
          "base_uri": "https://localhost:8080/"
        },
        "id": "jXe4VOkUw0_Q",
        "outputId": "1947711d-c690-490d-fc1d-1851b587918f"
      },
      "execution_count": 17,
      "outputs": [
        {
          "output_type": "execute_result",
          "data": {
            "text/plain": [
              "lived         53\n",
              "died          23\n",
              "euthanized    13\n",
              "Name: outcome, dtype: int64"
            ]
          },
          "metadata": {},
          "execution_count": 17
        }
      ]
    },
    {
      "cell_type": "code",
      "source": [
        "dataTreino = dataset_treino.drop('hospital_number', axis=1)\n",
        "dataTeste = dataset_teste.drop('hospital_number', axis=1)"
      ],
      "metadata": {
        "id": "8zpc0Vl5w4JE"
      },
      "execution_count": 33,
      "outputs": []
    },
    {
      "cell_type": "code",
      "source": [
        "dataset_treino.dtypes"
      ],
      "metadata": {
        "colab": {
          "base_uri": "https://localhost:8080/"
        },
        "id": "qdqZ93QXzFvK",
        "outputId": "30b40e18-06f0-493c-e41d-2c774daca6e0"
      },
      "execution_count": 38,
      "outputs": [
        {
          "output_type": "execute_result",
          "data": {
            "text/plain": [
              "surgery                   object\n",
              "age                       object\n",
              "hospital_number            int64\n",
              "rectal_temp              float64\n",
              "pulse                    float64\n",
              "respiratory_rate         float64\n",
              "temp_of_extremities       object\n",
              "peripheral_pulse          object\n",
              "mucous_membrane           object\n",
              "capillary_refill_time     object\n",
              "pain                      object\n",
              "peristalsis               object\n",
              "abdominal_distention      object\n",
              "nasogastric_tube          object\n",
              "nasogastric_reflux        object\n",
              "nasogastric_reflux_ph    float64\n",
              "rectal_exam_feces         object\n",
              "abdomen                   object\n",
              "packed_cell_volume       float64\n",
              "total_protein            float64\n",
              "abdomo_appearance         object\n",
              "abdomo_protein           float64\n",
              "outcome                   object\n",
              "surgical_lesion           object\n",
              "lesion_1                   int64\n",
              "lesion_2                   int64\n",
              "lesion_3                   int64\n",
              "cp_data                   object\n",
              "dtype: object"
            ]
          },
          "metadata": {},
          "execution_count": 38
        }
      ]
    },
    {
      "cell_type": "code",
      "source": [
        "dataTreino['surgery'].value_counts()"
      ],
      "metadata": {
        "colab": {
          "base_uri": "https://localhost:8080/"
        },
        "id": "1_j8Qq5CzY07",
        "outputId": "84a91015-fc16-4985-f4fd-f8ca9aec187a"
      },
      "execution_count": 24,
      "outputs": [
        {
          "output_type": "execute_result",
          "data": {
            "text/plain": [
              "yes    180\n",
              "no     119\n",
              "Name: surgery, dtype: int64"
            ]
          },
          "metadata": {},
          "execution_count": 24
        }
      ]
    },
    {
      "cell_type": "code",
      "source": [
        "dataTreino['surgery'] = dataTreino['surgery'].replace('yes',1)\n",
        "dataTreino['surgery'] = dataTreino['surgery'].replace('no',0)"
      ],
      "metadata": {
        "id": "SO7Vydwa2e_V"
      },
      "execution_count": 34,
      "outputs": []
    },
    {
      "cell_type": "code",
      "source": [
        "dataTreino['age'].value_counts()"
      ],
      "metadata": {
        "colab": {
          "base_uri": "https://localhost:8080/"
        },
        "id": "cuEYGf4u0OJL",
        "outputId": "868fc15f-7490-4372-b3b7-018c95f3dd9f"
      },
      "execution_count": 25,
      "outputs": [
        {
          "output_type": "execute_result",
          "data": {
            "text/plain": [
              "adult    275\n",
              "young     24\n",
              "Name: age, dtype: int64"
            ]
          },
          "metadata": {},
          "execution_count": 25
        }
      ]
    },
    {
      "cell_type": "code",
      "source": [
        "dataTreino['age'] = dataTreino['age'].replace('adult',1)\n",
        "dataTreino['age'] = dataTreino['age'].replace('young',0)"
      ],
      "metadata": {
        "id": "SphbUfvm26C-"
      },
      "execution_count": 35,
      "outputs": []
    },
    {
      "cell_type": "code",
      "source": [
        "dataTreino['temp_of_extremities'].value_counts()"
      ],
      "metadata": {
        "colab": {
          "base_uri": "https://localhost:8080/"
        },
        "id": "cW7tO4520Sqk",
        "outputId": "4701dba6-d95b-432f-95c9-f7f01b69c605"
      },
      "execution_count": 26,
      "outputs": [
        {
          "output_type": "execute_result",
          "data": {
            "text/plain": [
              "cool      108\n",
              "normal     78\n",
              "warm       30\n",
              "cold       27\n",
              "Name: temp_of_extremities, dtype: int64"
            ]
          },
          "metadata": {},
          "execution_count": 26
        }
      ]
    },
    {
      "cell_type": "code",
      "source": [
        "temp_of_extremities_encode = pd.get_dummies(dataTreino['temp_of_extremities'])\n",
        "dataTreino.drop('temp_of_extremities', axis=1, inplace=True)\n",
        "dataTreino = pd.concat([dataTreino, temp_of_extremities_encode],axis=1)\n",
        "dataTreino.head(3)"
      ],
      "metadata": {
        "colab": {
          "base_uri": "https://localhost:8080/",
          "height": 237
        },
        "id": "awrjiran3NK4",
        "outputId": "810f5575-0ad4-48a7-d990-728cf6d7cd4a"
      },
      "execution_count": 36,
      "outputs": [
        {
          "output_type": "execute_result",
          "data": {
            "text/plain": [
              "   surgery  age  rectal_temp  pulse  respiratory_rate peripheral_pulse  \\\n",
              "0        0    1         38.5   66.0              28.0          reduced   \n",
              "1        1    1         39.2   88.0              20.0              NaN   \n",
              "2        0    1         38.3   40.0              24.0           normal   \n",
              "\n",
              "  mucous_membrane capillary_refill_time          pain peristalsis  ...  \\\n",
              "0             NaN            more_3_sec  extreme_pain      absent  ...   \n",
              "1   pale_cyanotic            less_3_sec     mild_pain      absent  ...   \n",
              "2       pale_pink            less_3_sec     mild_pain  hypomotile  ...   \n",
              "\n",
              "      outcome surgical_lesion lesion_1  lesion_2 lesion_3 cp_data  cold  cool  \\\n",
              "0        died              no    11300         0        0      no     0     1   \n",
              "1  euthanized              no     2208         0        0      no     0     0   \n",
              "2       lived              no        0         0        0     yes     0     0   \n",
              "\n",
              "  normal  warm  \n",
              "0      0     0  \n",
              "1      0     0  \n",
              "2      1     0  \n",
              "\n",
              "[3 rows x 30 columns]"
            ],
            "text/html": [
              "\n",
              "  <div id=\"df-a86f2e44-48bf-45f2-b63f-74bad97c9351\">\n",
              "    <div class=\"colab-df-container\">\n",
              "      <div>\n",
              "<style scoped>\n",
              "    .dataframe tbody tr th:only-of-type {\n",
              "        vertical-align: middle;\n",
              "    }\n",
              "\n",
              "    .dataframe tbody tr th {\n",
              "        vertical-align: top;\n",
              "    }\n",
              "\n",
              "    .dataframe thead th {\n",
              "        text-align: right;\n",
              "    }\n",
              "</style>\n",
              "<table border=\"1\" class=\"dataframe\">\n",
              "  <thead>\n",
              "    <tr style=\"text-align: right;\">\n",
              "      <th></th>\n",
              "      <th>surgery</th>\n",
              "      <th>age</th>\n",
              "      <th>rectal_temp</th>\n",
              "      <th>pulse</th>\n",
              "      <th>respiratory_rate</th>\n",
              "      <th>peripheral_pulse</th>\n",
              "      <th>mucous_membrane</th>\n",
              "      <th>capillary_refill_time</th>\n",
              "      <th>pain</th>\n",
              "      <th>peristalsis</th>\n",
              "      <th>...</th>\n",
              "      <th>outcome</th>\n",
              "      <th>surgical_lesion</th>\n",
              "      <th>lesion_1</th>\n",
              "      <th>lesion_2</th>\n",
              "      <th>lesion_3</th>\n",
              "      <th>cp_data</th>\n",
              "      <th>cold</th>\n",
              "      <th>cool</th>\n",
              "      <th>normal</th>\n",
              "      <th>warm</th>\n",
              "    </tr>\n",
              "  </thead>\n",
              "  <tbody>\n",
              "    <tr>\n",
              "      <th>0</th>\n",
              "      <td>0</td>\n",
              "      <td>1</td>\n",
              "      <td>38.5</td>\n",
              "      <td>66.0</td>\n",
              "      <td>28.0</td>\n",
              "      <td>reduced</td>\n",
              "      <td>NaN</td>\n",
              "      <td>more_3_sec</td>\n",
              "      <td>extreme_pain</td>\n",
              "      <td>absent</td>\n",
              "      <td>...</td>\n",
              "      <td>died</td>\n",
              "      <td>no</td>\n",
              "      <td>11300</td>\n",
              "      <td>0</td>\n",
              "      <td>0</td>\n",
              "      <td>no</td>\n",
              "      <td>0</td>\n",
              "      <td>1</td>\n",
              "      <td>0</td>\n",
              "      <td>0</td>\n",
              "    </tr>\n",
              "    <tr>\n",
              "      <th>1</th>\n",
              "      <td>1</td>\n",
              "      <td>1</td>\n",
              "      <td>39.2</td>\n",
              "      <td>88.0</td>\n",
              "      <td>20.0</td>\n",
              "      <td>NaN</td>\n",
              "      <td>pale_cyanotic</td>\n",
              "      <td>less_3_sec</td>\n",
              "      <td>mild_pain</td>\n",
              "      <td>absent</td>\n",
              "      <td>...</td>\n",
              "      <td>euthanized</td>\n",
              "      <td>no</td>\n",
              "      <td>2208</td>\n",
              "      <td>0</td>\n",
              "      <td>0</td>\n",
              "      <td>no</td>\n",
              "      <td>0</td>\n",
              "      <td>0</td>\n",
              "      <td>0</td>\n",
              "      <td>0</td>\n",
              "    </tr>\n",
              "    <tr>\n",
              "      <th>2</th>\n",
              "      <td>0</td>\n",
              "      <td>1</td>\n",
              "      <td>38.3</td>\n",
              "      <td>40.0</td>\n",
              "      <td>24.0</td>\n",
              "      <td>normal</td>\n",
              "      <td>pale_pink</td>\n",
              "      <td>less_3_sec</td>\n",
              "      <td>mild_pain</td>\n",
              "      <td>hypomotile</td>\n",
              "      <td>...</td>\n",
              "      <td>lived</td>\n",
              "      <td>no</td>\n",
              "      <td>0</td>\n",
              "      <td>0</td>\n",
              "      <td>0</td>\n",
              "      <td>yes</td>\n",
              "      <td>0</td>\n",
              "      <td>0</td>\n",
              "      <td>1</td>\n",
              "      <td>0</td>\n",
              "    </tr>\n",
              "  </tbody>\n",
              "</table>\n",
              "<p>3 rows × 30 columns</p>\n",
              "</div>\n",
              "      <button class=\"colab-df-convert\" onclick=\"convertToInteractive('df-a86f2e44-48bf-45f2-b63f-74bad97c9351')\"\n",
              "              title=\"Convert this dataframe to an interactive table.\"\n",
              "              style=\"display:none;\">\n",
              "        \n",
              "  <svg xmlns=\"http://www.w3.org/2000/svg\" height=\"24px\"viewBox=\"0 0 24 24\"\n",
              "       width=\"24px\">\n",
              "    <path d=\"M0 0h24v24H0V0z\" fill=\"none\"/>\n",
              "    <path d=\"M18.56 5.44l.94 2.06.94-2.06 2.06-.94-2.06-.94-.94-2.06-.94 2.06-2.06.94zm-11 1L8.5 8.5l.94-2.06 2.06-.94-2.06-.94L8.5 2.5l-.94 2.06-2.06.94zm10 10l.94 2.06.94-2.06 2.06-.94-2.06-.94-.94-2.06-.94 2.06-2.06.94z\"/><path d=\"M17.41 7.96l-1.37-1.37c-.4-.4-.92-.59-1.43-.59-.52 0-1.04.2-1.43.59L10.3 9.45l-7.72 7.72c-.78.78-.78 2.05 0 2.83L4 21.41c.39.39.9.59 1.41.59.51 0 1.02-.2 1.41-.59l7.78-7.78 2.81-2.81c.8-.78.8-2.07 0-2.86zM5.41 20L4 18.59l7.72-7.72 1.47 1.35L5.41 20z\"/>\n",
              "  </svg>\n",
              "      </button>\n",
              "      \n",
              "  <style>\n",
              "    .colab-df-container {\n",
              "      display:flex;\n",
              "      flex-wrap:wrap;\n",
              "      gap: 12px;\n",
              "    }\n",
              "\n",
              "    .colab-df-convert {\n",
              "      background-color: #E8F0FE;\n",
              "      border: none;\n",
              "      border-radius: 50%;\n",
              "      cursor: pointer;\n",
              "      display: none;\n",
              "      fill: #1967D2;\n",
              "      height: 32px;\n",
              "      padding: 0 0 0 0;\n",
              "      width: 32px;\n",
              "    }\n",
              "\n",
              "    .colab-df-convert:hover {\n",
              "      background-color: #E2EBFA;\n",
              "      box-shadow: 0px 1px 2px rgba(60, 64, 67, 0.3), 0px 1px 3px 1px rgba(60, 64, 67, 0.15);\n",
              "      fill: #174EA6;\n",
              "    }\n",
              "\n",
              "    [theme=dark] .colab-df-convert {\n",
              "      background-color: #3B4455;\n",
              "      fill: #D2E3FC;\n",
              "    }\n",
              "\n",
              "    [theme=dark] .colab-df-convert:hover {\n",
              "      background-color: #434B5C;\n",
              "      box-shadow: 0px 1px 3px 1px rgba(0, 0, 0, 0.15);\n",
              "      filter: drop-shadow(0px 1px 2px rgba(0, 0, 0, 0.3));\n",
              "      fill: #FFFFFF;\n",
              "    }\n",
              "  </style>\n",
              "\n",
              "      <script>\n",
              "        const buttonEl =\n",
              "          document.querySelector('#df-a86f2e44-48bf-45f2-b63f-74bad97c9351 button.colab-df-convert');\n",
              "        buttonEl.style.display =\n",
              "          google.colab.kernel.accessAllowed ? 'block' : 'none';\n",
              "\n",
              "        async function convertToInteractive(key) {\n",
              "          const element = document.querySelector('#df-a86f2e44-48bf-45f2-b63f-74bad97c9351');\n",
              "          const dataTable =\n",
              "            await google.colab.kernel.invokeFunction('convertToInteractive',\n",
              "                                                     [key], {});\n",
              "          if (!dataTable) return;\n",
              "\n",
              "          const docLinkHtml = 'Like what you see? Visit the ' +\n",
              "            '<a target=\"_blank\" href=https://colab.research.google.com/notebooks/data_table.ipynb>data table notebook</a>'\n",
              "            + ' to learn more about interactive tables.';\n",
              "          element.innerHTML = '';\n",
              "          dataTable['output_type'] = 'display_data';\n",
              "          await google.colab.output.renderOutput(dataTable, element);\n",
              "          const docLink = document.createElement('div');\n",
              "          docLink.innerHTML = docLinkHtml;\n",
              "          element.appendChild(docLink);\n",
              "        }\n",
              "      </script>\n",
              "    </div>\n",
              "  </div>\n",
              "  "
            ]
          },
          "metadata": {},
          "execution_count": 36
        }
      ]
    },
    {
      "cell_type": "code",
      "source": [
        "dataTreino['peripheral_pulse'].value_counts()"
      ],
      "metadata": {
        "colab": {
          "base_uri": "https://localhost:8080/"
        },
        "id": "l5XjB_0j0bHM",
        "outputId": "e9cb2705-edbb-4c81-a567-654fda18e3a1"
      },
      "execution_count": 42,
      "outputs": [
        {
          "output_type": "execute_result",
          "data": {
            "text/plain": [
              "normal       114\n",
              "reduced      103\n",
              "absent         8\n",
              "increased      5\n",
              "Name: peripheral_pulse, dtype: int64"
            ]
          },
          "metadata": {},
          "execution_count": 42
        }
      ]
    },
    {
      "cell_type": "code",
      "source": [
        "peripheral_pulse_encode = pd.get_dummies(dataTreino['peripheral_pulse'])\n",
        "dataTreino.drop('peripheral_pulse', axis=1, inplace=True)\n",
        "dataTreino = pd.concat([dataTreino, peripheral_pulse_encode],axis=1)"
      ],
      "metadata": {
        "id": "IInmiKI57ZuG"
      },
      "execution_count": 43,
      "outputs": []
    },
    {
      "cell_type": "code",
      "source": [
        "dataset_treino['mucous_membrane'].value_counts()"
      ],
      "metadata": {
        "colab": {
          "base_uri": "https://localhost:8080/"
        },
        "id": "THMNJ6Nb0uLD",
        "outputId": "f3bfe7da-a156-47fc-aab7-e80ede6279cd"
      },
      "execution_count": 39,
      "outputs": [
        {
          "output_type": "execute_result",
          "data": {
            "text/plain": [
              "normal_pink      79\n",
              "pale_pink        57\n",
              "pale_cyanotic    41\n",
              "bright_pink      30\n",
              "bright_red       25\n",
              "dark_cyanotic    20\n",
              "Name: mucous_membrane, dtype: int64"
            ]
          },
          "metadata": {},
          "execution_count": 39
        }
      ]
    },
    {
      "cell_type": "code",
      "source": [
        "mucous_membrane_encode = pd.get_dummies(dataTreino['mucous_membrane'])\n",
        "dataTreino.drop('mucous_membrane', axis=1, inplace=True)\n",
        "dataTreino = pd.concat([dataTreino, mucous_membrane_encode],axis=1)"
      ],
      "metadata": {
        "id": "WOVRPFKy71T0"
      },
      "execution_count": 44,
      "outputs": []
    },
    {
      "cell_type": "code",
      "source": [
        "dataTreino.dtypes"
      ],
      "metadata": {
        "colab": {
          "base_uri": "https://localhost:8080/"
        },
        "id": "M0i8bK1k7JJd",
        "outputId": "aa0c3ccd-a923-4733-dfbf-56beb379c074"
      },
      "execution_count": 41,
      "outputs": [
        {
          "output_type": "execute_result",
          "data": {
            "text/plain": [
              "surgery                    int64\n",
              "age                        int64\n",
              "rectal_temp              float64\n",
              "pulse                    float64\n",
              "respiratory_rate         float64\n",
              "peripheral_pulse          object\n",
              "mucous_membrane           object\n",
              "capillary_refill_time     object\n",
              "pain                      object\n",
              "peristalsis               object\n",
              "abdominal_distention      object\n",
              "nasogastric_tube          object\n",
              "nasogastric_reflux        object\n",
              "nasogastric_reflux_ph    float64\n",
              "rectal_exam_feces         object\n",
              "abdomen                   object\n",
              "packed_cell_volume       float64\n",
              "total_protein            float64\n",
              "abdomo_appearance         object\n",
              "abdomo_protein           float64\n",
              "outcome                   object\n",
              "surgical_lesion           object\n",
              "lesion_1                   int64\n",
              "lesion_2                   int64\n",
              "lesion_3                   int64\n",
              "cp_data                   object\n",
              "cold                       uint8\n",
              "cool                       uint8\n",
              "normal                     uint8\n",
              "warm                       uint8\n",
              "dtype: object"
            ]
          },
          "metadata": {},
          "execution_count": 41
        }
      ]
    },
    {
      "cell_type": "code",
      "source": [],
      "metadata": {
        "id": "CwWpF6jO7STW"
      },
      "execution_count": null,
      "outputs": []
    }
  ]
}